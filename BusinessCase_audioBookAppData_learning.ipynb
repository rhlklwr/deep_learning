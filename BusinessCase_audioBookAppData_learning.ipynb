{
 "cells": [
  {
   "cell_type": "code",
   "execution_count": 1,
   "metadata": {},
   "outputs": [],
   "source": [
    "import numpy as np\n",
    "import tensorflow as tf"
   ]
  },
  {
   "cell_type": "code",
   "execution_count": 2,
   "metadata": {},
   "outputs": [],
   "source": [
    "npz = np.load('Audiobooks_data_train.npz')\n",
    "train_inputs, train_targets = npz['inputs'].astype(np.float), npz['targets'].astype(np.int)\n",
    "\n",
    "npz = np.load('Audiobooks_data_test.npz')\n",
    "test_inputs, test_targets = npz['inputs'].astype(np.float), npz['targets'].astype(np.int)\n",
    "\n",
    "npz = np.load('Audiobooks_data_validation.npz')\n",
    "validation_inputs, validation_targets = npz['inputs'].astype(np.float), npz['targets'].astype(np.int)"
   ]
  },
  {
   "cell_type": "code",
   "execution_count": 3,
   "metadata": {},
   "outputs": [
    {
     "name": "stdout",
     "output_type": "stream",
     "text": [
      "Train on 3579 samples, validate on 447 samples\n",
      "Epoch 1/100\n",
      "3579/3579 - 1s - loss: 0.5762 - accuracy: 0.7703 - val_loss: 0.4461 - val_accuracy: 0.8792\n",
      "Epoch 2/100\n",
      "3579/3579 - 0s - loss: 0.3893 - accuracy: 0.8737 - val_loss: 0.3216 - val_accuracy: 0.8881\n",
      "Epoch 3/100\n",
      "3579/3579 - 0s - loss: 0.3214 - accuracy: 0.8799 - val_loss: 0.2788 - val_accuracy: 0.8971\n",
      "Epoch 4/100\n",
      "3579/3579 - 0s - loss: 0.2986 - accuracy: 0.8874 - val_loss: 0.2642 - val_accuracy: 0.9083\n",
      "Epoch 5/100\n",
      "3579/3579 - 0s - loss: 0.2832 - accuracy: 0.8910 - val_loss: 0.2609 - val_accuracy: 0.9060\n",
      "Epoch 6/100\n",
      "3579/3579 - 0s - loss: 0.2776 - accuracy: 0.8924 - val_loss: 0.2474 - val_accuracy: 0.9150\n",
      "Epoch 7/100\n",
      "3579/3579 - 0s - loss: 0.2686 - accuracy: 0.8961 - val_loss: 0.2391 - val_accuracy: 0.9128\n",
      "Epoch 8/100\n",
      "3579/3579 - 0s - loss: 0.2634 - accuracy: 0.8975 - val_loss: 0.2324 - val_accuracy: 0.9172\n",
      "Epoch 9/100\n",
      "3579/3579 - 0s - loss: 0.2596 - accuracy: 0.9000 - val_loss: 0.2325 - val_accuracy: 0.9128\n",
      "Epoch 10/100\n",
      "3579/3579 - 0s - loss: 0.2543 - accuracy: 0.9000 - val_loss: 0.2286 - val_accuracy: 0.9150\n",
      "Epoch 11/100\n",
      "3579/3579 - 0s - loss: 0.2523 - accuracy: 0.9019 - val_loss: 0.2262 - val_accuracy: 0.9172\n",
      "Epoch 12/100\n",
      "3579/3579 - 0s - loss: 0.2495 - accuracy: 0.9033 - val_loss: 0.2241 - val_accuracy: 0.9172\n",
      "Epoch 13/100\n",
      "3579/3579 - 0s - loss: 0.2480 - accuracy: 0.9016 - val_loss: 0.2232 - val_accuracy: 0.9172\n",
      "Epoch 14/100\n",
      "3579/3579 - 0s - loss: 0.2460 - accuracy: 0.9039 - val_loss: 0.2265 - val_accuracy: 0.9217\n",
      "Epoch 15/100\n",
      "3579/3579 - 0s - loss: 0.2435 - accuracy: 0.9072 - val_loss: 0.2197 - val_accuracy: 0.9195\n",
      "Epoch 16/100\n",
      "3579/3579 - 0s - loss: 0.2408 - accuracy: 0.9061 - val_loss: 0.2167 - val_accuracy: 0.9195\n",
      "Epoch 17/100\n",
      "3579/3579 - 0s - loss: 0.2410 - accuracy: 0.9084 - val_loss: 0.2209 - val_accuracy: 0.9195\n",
      "Epoch 18/100\n",
      "3579/3579 - 0s - loss: 0.2417 - accuracy: 0.9075 - val_loss: 0.2181 - val_accuracy: 0.9195\n"
     ]
    },
    {
     "data": {
      "text/plain": [
       "<tensorflow.python.keras.callbacks.History at 0x1fe925f78c8>"
      ]
     },
     "execution_count": 3,
     "metadata": {},
     "output_type": "execute_result"
    }
   ],
   "source": [
    "input_size = 10\n",
    "output_size = 2\n",
    "hidden_layer_size = 50\n",
    "\n",
    "model = tf.keras.Sequential([\n",
    "                            tf.keras.layers.Dense(hidden_layer_size, activation='relu'),\n",
    "                            tf.keras.layers.Dense(hidden_layer_size, activation='relu'),\n",
    "                            tf.keras.layers.Dense(output_size, activation='softmax')\n",
    "                            ])\n",
    "\n",
    "model.compile(optimizer='adam', loss='sparse_categorical_crossentropy', metrics=['accuracy'])\n",
    "\n",
    "BATCH_SIZE = 100\n",
    "MAX_EPOCHS = 100\n",
    "EARLY_STOPPING = tf.keras.callbacks.EarlyStopping(patience=2)\n",
    "\n",
    "model.fit(train_inputs,\n",
    "          train_targets,\n",
    "          batch_size = BATCH_SIZE,\n",
    "          epochs = MAX_EPOCHS,\n",
    "          validation_data=(validation_inputs, validation_targets),\n",
    "          #validation_steps = 10,\n",
    "          callbacks = [EARLY_STOPPING],\n",
    "          verbose=2\n",
    "          )"
   ]
  },
  {
   "cell_type": "code",
   "execution_count": 4,
   "metadata": {},
   "outputs": [
    {
     "name": "stdout",
     "output_type": "stream",
     "text": [
      "448/448 [==============================] - 0s 675us/sample - loss: 0.2428 - accuracy: 0.9129\n"
     ]
    }
   ],
   "source": [
    "test_loss, test_accuracy = model.evaluate(test_inputs, test_targets)"
   ]
  },
  {
   "cell_type": "code",
   "execution_count": null,
   "metadata": {},
   "outputs": [],
   "source": []
  }
 ],
 "metadata": {
  "kernelspec": {
   "display_name": "Python 3",
   "language": "python",
   "name": "python3"
  },
  "language_info": {
   "codemirror_mode": {
    "name": "ipython",
    "version": 3
   },
   "file_extension": ".py",
   "mimetype": "text/x-python",
   "name": "python",
   "nbconvert_exporter": "python",
   "pygments_lexer": "ipython3",
   "version": "3.7.4"
  }
 },
 "nbformat": 4,
 "nbformat_minor": 2
}
