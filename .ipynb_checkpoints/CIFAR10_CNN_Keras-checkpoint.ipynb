{
 "cells": [
  {
   "cell_type": "code",
   "execution_count": 1,
   "metadata": {},
   "outputs": [
    {
     "name": "stderr",
     "output_type": "stream",
     "text": [
      "Using TensorFlow backend.\n"
     ]
    }
   ],
   "source": [
    "from keras.datasets import cifar10\n",
    "\n",
    "(x_train_and_validation, y_train_and_validation), (x_test, y_test) = cifar10.load_data()"
   ]
  },
  {
   "cell_type": "code",
   "execution_count": 2,
   "metadata": {},
   "outputs": [
    {
     "data": {
      "text/plain": [
       "(50000, 32, 32, 3)"
      ]
     },
     "execution_count": 2,
     "metadata": {},
     "output_type": "execute_result"
    }
   ],
   "source": [
    "x_train_and_validation.shape"
   ]
  },
  {
   "cell_type": "code",
   "execution_count": 3,
   "metadata": {},
   "outputs": [
    {
     "data": {
      "text/plain": [
       "<matplotlib.image.AxesImage at 0x28dbcde2f88>"
      ]
     },
     "execution_count": 3,
     "metadata": {},
     "output_type": "execute_result"
    }
   ],
   "source": [
    "import matplotlib.pyplot as plt\n",
    "\n",
    "single_img = x_train_and_validation[0]\n",
    "\n",
    "plt.imshow(single_img)"
   ]
  },
  {
   "cell_type": "code",
   "execution_count": 4,
   "metadata": {},
   "outputs": [
    {
     "name": "stdout",
     "output_type": "stream",
     "text": [
      "255\n",
      "0\n"
     ]
    }
   ],
   "source": [
    "print(x_train_and_validation.max(), x_train_and_validation.min(), sep='\\n')"
   ]
  },
  {
   "cell_type": "code",
   "execution_count": 5,
   "metadata": {},
   "outputs": [
    {
     "name": "stdout",
     "output_type": "stream",
     "text": [
      "1.0\n",
      "0.0\n"
     ]
    }
   ],
   "source": [
    "scaled_x_train_and_validation = x_train_and_validation/255\n",
    "\n",
    "scaled_x_test = x_test/255\n",
    "\n",
    "print(scaled_x_test.max(),scaled_x_test.min(),sep='\\n')"
   ]
  },
  {
   "cell_type": "code",
   "execution_count": 6,
   "metadata": {},
   "outputs": [
    {
     "data": {
      "text/plain": [
       "50000"
      ]
     },
     "execution_count": 6,
     "metadata": {},
     "output_type": "execute_result"
    }
   ],
   "source": [
    "import numpy as np\n",
    "\n",
    "scaled_x_train_and_validation.shape[0]"
   ]
  },
  {
   "cell_type": "code",
   "execution_count": 7,
   "metadata": {},
   "outputs": [
    {
     "name": "stdout",
     "output_type": "stream",
     "text": [
      "5000 45000 5000 45000\n"
     ]
    }
   ],
   "source": [
    "validation_x_train_num = np.int(scaled_x_train_and_validation.shape[0]*0.1)\n",
    "\n",
    "scaled_x_validation = scaled_x_train_and_validation[:validation_x_train_num]\n",
    "scaled_x_train = scaled_x_train_and_validation[validation_x_train_num:]\n",
    "\n",
    "y_validation = y_train_and_validation[:validation_x_train_num]\n",
    "y_train = y_train_and_validation[validation_x_train_num:]\n",
    "\n",
    "print(scaled_x_validation.shape[0], scaled_x_train.shape[0], y_validation.shape[0], y_train.shape[0])"
   ]
  },
  {
   "cell_type": "code",
   "execution_count": 8,
   "metadata": {},
   "outputs": [],
   "source": [
    "from keras import callbacks\n",
    "from keras.layers import Conv2D,Dense,Flatten,MaxPool2D\n",
    "from keras.models import Sequential"
   ]
  },
  {
   "cell_type": "code",
   "execution_count": 9,
   "metadata": {},
   "outputs": [],
   "source": [
    "model = Sequential()\n",
    "\n",
    "## FIRST SET OF LAYERS\n",
    "\n",
    "# CONVOLUTIONAL LAYER\n",
    "model.add(Conv2D(filters=32, kernel_size=(4,4),input_shape=(32, 32, 3), activation='relu',))\n",
    "# CONVOLUTIONAL LAYER\n",
    "model.add(Conv2D(filters=32, kernel_size=(4,4),input_shape=(32, 32, 3), activation='relu',))\n",
    "\n",
    "# POOLING LAYER\n",
    "model.add(MaxPool2D(pool_size=(2, 2)))\n",
    "\n",
    "## SECOND SET OF LAYERS\n",
    "\n",
    "# CONVOLUTIONAL LAYER\n",
    "model.add(Conv2D(filters=64, kernel_size=(4,4),input_shape=(32, 32, 3), activation='relu',))\n",
    "# CONVOLUTIONAL LAYER\n",
    "model.add(Conv2D(filters=64, kernel_size=(4,4),input_shape=(32, 32, 3), activation='relu',))\n",
    "\n",
    "# POOLING LAYER\n",
    "model.add(MaxPool2D(pool_size=(2, 2)))\n",
    "\n",
    "# FLATTEN IMAGES BEFORE FINAL LAYER\n",
    "model.add(Flatten())\n",
    "\n",
    "# 512 NEURONS IN DENSE HIDDEN LAYER\n",
    "model.add(Dense(512, activation='relu'))\n",
    "\n",
    "# LAST LAYER IS THE CLASSIFIER, THUS 10 POSSIBLE CLASSES\n",
    "model.add(Dense(10, activation='softmax'))\n",
    "\n",
    "\n",
    "model.compile(loss='sparse_categorical_crossentropy',\n",
    "              optimizer='adam',\n",
    "              metrics=['accuracy'])"
   ]
  },
  {
   "cell_type": "code",
   "execution_count": 10,
   "metadata": {},
   "outputs": [
    {
     "name": "stdout",
     "output_type": "stream",
     "text": [
      "Model: \"sequential_1\"\n",
      "_________________________________________________________________\n",
      "Layer (type)                 Output Shape              Param #   \n",
      "=================================================================\n",
      "conv2d_1 (Conv2D)            (None, 29, 29, 32)        1568      \n",
      "_________________________________________________________________\n",
      "conv2d_2 (Conv2D)            (None, 26, 26, 32)        16416     \n",
      "_________________________________________________________________\n",
      "max_pooling2d_1 (MaxPooling2 (None, 13, 13, 32)        0         \n",
      "_________________________________________________________________\n",
      "conv2d_3 (Conv2D)            (None, 10, 10, 64)        32832     \n",
      "_________________________________________________________________\n",
      "conv2d_4 (Conv2D)            (None, 7, 7, 64)          65600     \n",
      "_________________________________________________________________\n",
      "max_pooling2d_2 (MaxPooling2 (None, 3, 3, 64)          0         \n",
      "_________________________________________________________________\n",
      "flatten_1 (Flatten)          (None, 576)               0         \n",
      "_________________________________________________________________\n",
      "dense_1 (Dense)              (None, 512)               295424    \n",
      "_________________________________________________________________\n",
      "dense_2 (Dense)              (None, 10)                5130      \n",
      "=================================================================\n",
      "Total params: 416,970\n",
      "Trainable params: 416,970\n",
      "Non-trainable params: 0\n",
      "_________________________________________________________________\n"
     ]
    }
   ],
   "source": [
    "model.summary()"
   ]
  },
  {
   "cell_type": "code",
   "execution_count": 11,
   "metadata": {},
   "outputs": [
    {
     "name": "stdout",
     "output_type": "stream",
     "text": [
      "Train on 45000 samples, validate on 5000 samples\n",
      "Epoch 1/20\n",
      " - 210s - loss: 1.5926 - accuracy: 0.4112 - val_loss: 1.3014 - val_accuracy: 0.5264\n",
      "Epoch 2/20\n",
      " - 215s - loss: 1.2070 - accuracy: 0.5704 - val_loss: 1.1070 - val_accuracy: 0.6088\n",
      "Epoch 3/20\n",
      " - 216s - loss: 1.0484 - accuracy: 0.6283 - val_loss: 1.0579 - val_accuracy: 0.6282\n",
      "Epoch 4/20\n",
      " - 215s - loss: 0.9438 - accuracy: 0.6690 - val_loss: 0.9497 - val_accuracy: 0.6676\n",
      "Epoch 5/20\n",
      " - 212s - loss: 0.8380 - accuracy: 0.7045 - val_loss: 0.8871 - val_accuracy: 0.6928\n",
      "Epoch 6/20\n",
      " - 210s - loss: 0.7609 - accuracy: 0.7322 - val_loss: 0.8587 - val_accuracy: 0.6964\n",
      "Epoch 7/20\n",
      " - 212s - loss: 0.6994 - accuracy: 0.7518 - val_loss: 0.8225 - val_accuracy: 0.7140\n",
      "Epoch 8/20\n",
      " - 210s - loss: 0.6204 - accuracy: 0.7790 - val_loss: 0.8195 - val_accuracy: 0.7250\n",
      "Epoch 9/20\n",
      " - 209s - loss: 0.5657 - accuracy: 0.7999 - val_loss: 0.8497 - val_accuracy: 0.7116\n",
      "Epoch 10/20\n",
      " - 210s - loss: 0.5037 - accuracy: 0.8193 - val_loss: 0.8463 - val_accuracy: 0.7272\n"
     ]
    },
    {
     "data": {
      "text/plain": [
       "<keras.callbacks.callbacks.History at 0x28dbd0b26c8>"
      ]
     },
     "execution_count": 11,
     "metadata": {},
     "output_type": "execute_result"
    }
   ],
   "source": [
    "BATCH_SIZE = 20\n",
    "MAX_EPOCHS = 20\n",
    "EARLY_STOPPING = callbacks.EarlyStopping(patience=2)\n",
    "\n",
    "model.fit(scaled_x_train,\n",
    "          y_train,\n",
    "          epochs=MAX_EPOCHS,\n",
    "          batch_size = BATCH_SIZE,\n",
    "          validation_data=(scaled_x_validation, y_validation),\n",
    "          callbacks = [EARLY_STOPPING],\n",
    "          verbose=2)"
   ]
  },
  {
   "cell_type": "code",
   "execution_count": 12,
   "metadata": {},
   "outputs": [
    {
     "data": {
      "text/plain": [
       "['loss', 'accuracy']"
      ]
     },
     "execution_count": 12,
     "metadata": {},
     "output_type": "execute_result"
    }
   ],
   "source": [
    "model.metrics_names"
   ]
  },
  {
   "cell_type": "code",
   "execution_count": 13,
   "metadata": {},
   "outputs": [
    {
     "name": "stdout",
     "output_type": "stream",
     "text": [
      "10000/10000 [==============================] - 11s 1ms/step\n"
     ]
    },
    {
     "data": {
      "text/plain": [
       "[226.88957572021485, 0.5464000105857849]"
      ]
     },
     "execution_count": 13,
     "metadata": {},
     "output_type": "execute_result"
    }
   ],
   "source": [
    "model.evaluate(x_test,y_test)"
   ]
  },
  {
   "cell_type": "code",
   "execution_count": 14,
   "metadata": {},
   "outputs": [],
   "source": [
    "from sklearn.metrics import classification_report\n",
    "\n",
    "predictions = model.predict_classes(x_test)"
   ]
  },
  {
   "cell_type": "code",
   "execution_count": 15,
   "metadata": {},
   "outputs": [
    {
     "name": "stdout",
     "output_type": "stream",
     "text": [
      "              precision    recall  f1-score   support\n",
      "\n",
      "           0       0.39      0.88      0.54      1000\n",
      "           1       0.65      0.75      0.69      1000\n",
      "           2       0.60      0.25      0.35      1000\n",
      "           3       0.51      0.27      0.35      1000\n",
      "           4       0.79      0.18      0.29      1000\n",
      "           5       0.60      0.53      0.56      1000\n",
      "           6       0.89      0.34      0.49      1000\n",
      "           7       0.53      0.75      0.62      1000\n",
      "           8       0.58      0.71      0.64      1000\n",
      "           9       0.54      0.81      0.65      1000\n",
      "\n",
      "    accuracy                           0.55     10000\n",
      "   macro avg       0.61      0.55      0.52     10000\n",
      "weighted avg       0.61      0.55      0.52     10000\n",
      "\n"
     ]
    }
   ],
   "source": [
    "print(classification_report(y_test,predictions))"
   ]
  },
  {
   "cell_type": "code",
   "execution_count": null,
   "metadata": {},
   "outputs": [],
   "source": [
    "model.save('./models/CIFAR10_CNN_Keras.h5')"
   ]
  }
 ],
 "metadata": {
  "kernelspec": {
   "display_name": "Python 3",
   "language": "python",
   "name": "python3"
  },
  "language_info": {
   "codemirror_mode": {
    "name": "ipython",
    "version": 3
   },
   "file_extension": ".py",
   "mimetype": "text/x-python",
   "name": "python",
   "nbconvert_exporter": "python",
   "pygments_lexer": "ipython3",
   "version": "3.7.4"
  }
 },
 "nbformat": 4,
 "nbformat_minor": 4
}
