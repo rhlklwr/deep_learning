{
 "cells": [
  {
   "cell_type": "code",
   "execution_count": 1,
   "metadata": {},
   "outputs": [],
   "source": [
    "import numpy as np\n",
    "import tensorflow as tf"
   ]
  },
  {
   "cell_type": "code",
   "execution_count": 2,
   "metadata": {},
   "outputs": [],
   "source": [
    "npz = np.load('./DATA/Audio_Book/Audiobooks_data_train.npz')\n",
    "train_inputs, train_targets = npz['inputs'].astype(np.float), npz['targets'].astype(np.int)\n",
    "\n",
    "npz = np.load('./DATA/Audio_Book/Audiobooks_data_test.npz')\n",
    "test_inputs, test_targets = npz['inputs'].astype(np.float), npz['targets'].astype(np.int)\n",
    "\n",
    "npz = np.load('./DATA/Audio_Book/Audiobooks_data_validation.npz')\n",
    "validation_inputs, validation_targets = npz['inputs'].astype(np.float), npz['targets'].astype(np.int)"
   ]
  },
  {
   "cell_type": "code",
   "execution_count": 3,
   "metadata": {},
   "outputs": [
    {
     "name": "stdout",
     "output_type": "stream",
     "text": [
      "Train on 3579 samples, validate on 447 samples\n",
      "Epoch 1/100\n",
      "3579/3579 - 1s - loss: 0.5516 - accuracy: 0.7717 - val_loss: 0.4165 - val_accuracy: 0.8591\n",
      "Epoch 2/100\n",
      "3579/3579 - 0s - loss: 0.3609 - accuracy: 0.8762 - val_loss: 0.3289 - val_accuracy: 0.8680\n",
      "Epoch 3/100\n",
      "3579/3579 - 0s - loss: 0.3112 - accuracy: 0.8843 - val_loss: 0.3142 - val_accuracy: 0.8725\n",
      "Epoch 4/100\n",
      "3579/3579 - 0s - loss: 0.2927 - accuracy: 0.8905 - val_loss: 0.3013 - val_accuracy: 0.8792\n",
      "Epoch 5/100\n",
      "3579/3579 - 0s - loss: 0.2808 - accuracy: 0.8930 - val_loss: 0.2934 - val_accuracy: 0.8859\n",
      "Epoch 6/100\n",
      "3579/3579 - 0s - loss: 0.2721 - accuracy: 0.8966 - val_loss: 0.2891 - val_accuracy: 0.8837\n",
      "Epoch 7/100\n",
      "3579/3579 - 0s - loss: 0.2660 - accuracy: 0.8986 - val_loss: 0.2839 - val_accuracy: 0.8859\n",
      "Epoch 8/100\n",
      "3579/3579 - 0s - loss: 0.2589 - accuracy: 0.9014 - val_loss: 0.2816 - val_accuracy: 0.8949\n",
      "Epoch 9/100\n",
      "3579/3579 - 0s - loss: 0.2567 - accuracy: 0.9025 - val_loss: 0.2768 - val_accuracy: 0.8949\n",
      "Epoch 10/100\n",
      "3579/3579 - 0s - loss: 0.2512 - accuracy: 0.9022 - val_loss: 0.2722 - val_accuracy: 0.8837\n",
      "Epoch 11/100\n",
      "3579/3579 - 0s - loss: 0.2484 - accuracy: 0.9044 - val_loss: 0.2719 - val_accuracy: 0.8926\n",
      "Epoch 12/100\n",
      "3579/3579 - 0s - loss: 0.2460 - accuracy: 0.9030 - val_loss: 0.2758 - val_accuracy: 0.8859\n",
      "Epoch 13/100\n",
      "3579/3579 - 0s - loss: 0.2455 - accuracy: 0.9044 - val_loss: 0.2639 - val_accuracy: 0.8949\n",
      "Epoch 14/100\n",
      "3579/3579 - 0s - loss: 0.2420 - accuracy: 0.9039 - val_loss: 0.2615 - val_accuracy: 0.8926\n",
      "Epoch 15/100\n",
      "3579/3579 - 0s - loss: 0.2396 - accuracy: 0.9064 - val_loss: 0.2578 - val_accuracy: 0.8971\n",
      "Epoch 16/100\n",
      "3579/3579 - 0s - loss: 0.2384 - accuracy: 0.9098 - val_loss: 0.2577 - val_accuracy: 0.8949\n",
      "Epoch 17/100\n",
      "3579/3579 - 0s - loss: 0.2384 - accuracy: 0.9100 - val_loss: 0.2615 - val_accuracy: 0.8837\n",
      "Epoch 18/100\n",
      "3579/3579 - 0s - loss: 0.2347 - accuracy: 0.9086 - val_loss: 0.2591 - val_accuracy: 0.8904\n"
     ]
    },
    {
     "data": {
      "text/plain": [
       "<tensorflow.python.keras.callbacks.History at 0x292c84e4908>"
      ]
     },
     "execution_count": 3,
     "metadata": {},
     "output_type": "execute_result"
    }
   ],
   "source": [
    "input_size = 10\n",
    "output_size = 2\n",
    "hidden_layer_size = 50\n",
    "\n",
    "model = tf.keras.Sequential([\n",
    "                            tf.keras.layers.Dense(hidden_layer_size, activation='relu'),\n",
    "                            tf.keras.layers.Dense(hidden_layer_size, activation='relu'),\n",
    "                            tf.keras.layers.Dense(output_size, activation='softmax')\n",
    "                            ])\n",
    "\n",
    "model.compile(optimizer='adam', loss='sparse_categorical_crossentropy', metrics=['accuracy'])\n",
    "\n",
    "BATCH_SIZE = 100\n",
    "MAX_EPOCHS = 100\n",
    "EARLY_STOPPING = tf.keras.callbacks.EarlyStopping(patience=2)\n",
    "\n",
    "model.fit(train_inputs,\n",
    "          train_targets,\n",
    "          batch_size = BATCH_SIZE,\n",
    "          epochs = MAX_EPOCHS,\n",
    "          validation_data=(validation_inputs, validation_targets),\n",
    "          #validation_steps = 1,\n",
    "          callbacks = [EARLY_STOPPING],\n",
    "          verbose=2\n",
    "          )"
   ]
  },
  {
   "cell_type": "code",
   "execution_count": 4,
   "metadata": {},
   "outputs": [
    {
     "name": "stdout",
     "output_type": "stream",
     "text": [
      "448/448 [==============================] - 0s 295us/sample - loss: 0.2421 - accuracy: 0.9219\n"
     ]
    }
   ],
   "source": [
    "test_loss, test_accuracy = model.evaluate(test_inputs, test_targets)"
   ]
  },
  {
   "cell_type": "code",
   "execution_count": 5,
   "metadata": {},
   "outputs": [],
   "source": [
    "model.save('./models/BusinessCase_audioBookAppData_learning.h5')"
   ]
  }
 ],
 "metadata": {
  "kernelspec": {
   "display_name": "Python 3",
   "language": "python",
   "name": "python3"
  },
  "language_info": {
   "codemirror_mode": {
    "name": "ipython",
    "version": 3
   },
   "file_extension": ".py",
   "mimetype": "text/x-python",
   "name": "python",
   "nbconvert_exporter": "python",
   "pygments_lexer": "ipython3",
   "version": "3.7.4"
  }
 },
 "nbformat": 4,
 "nbformat_minor": 4
}
